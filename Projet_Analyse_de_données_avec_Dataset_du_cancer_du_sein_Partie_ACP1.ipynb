{
  "nbformat": 4,
  "nbformat_minor": 0,
  "metadata": {
    "colab": {
      "name": "Projet_Analyse_de_données_avec_Dataset_du_cancer_du_sein_Partie_ACP1.ipynb",
      "provenance": [],
      "collapsed_sections": []
    },
    "kernelspec": {
      "display_name": "Python 3",
      "language": "python",
      "name": "python3"
    },
    "language_info": {
      "codemirror_mode": {
        "name": "ipython",
        "version": 3
      },
      "file_extension": ".py",
      "mimetype": "text/x-python",
      "name": "python",
      "nbconvert_exporter": "python",
      "pygments_lexer": "ipython3",
      "version": "3.7.6"
    }
  },
  "cells": [
    {
      "cell_type": "markdown",
      "metadata": {
        "colab_type": "text",
        "id": "tbWx8D_BcnPy"
      },
      "source": [
        "CE PROJET est réalisé par Malek Eljaouadi , Jlidi Fakhereddine , Jraba Ahmed et Riahi Hatem ( 2eme info groupe c ) \n",
        "PS :Nous avons réaliser ce projet en se basant sur la dataset \"load_brest_cancer\" qui est une dataset qui traite les tumeur du cancer du sein , cette Dataset **est une dataset prédefinis du bibliothéque SCICKIT-Learn **"
      ]
    },
    {
      "cell_type": "markdown",
      "metadata": {
        "id": "orum0rlXlr9F",
        "colab_type": "text"
      },
      "source": [
        "**Importation** des libreries nécessaires "
      ]
    },
    {
      "cell_type": "code",
      "metadata": {
        "colab_type": "code",
        "id": "ycrT7XTmctf1",
        "colab": {}
      },
      "source": [
        "import matplotlib.pyplot as plt\n",
        "import pandas as pd\n",
        "import numpy as np\n",
        "import seaborn as sns"
      ],
      "execution_count": 0,
      "outputs": []
    },
    {
      "cell_type": "markdown",
      "metadata": {
        "colab_type": "text",
        "id": "qbgrFfOZczzi"
      },
      "source": [
        "Importation du dataset du cancer du sein à partir de la librarie de python \"Scikit-Learn\""
      ]
    },
    {
      "cell_type": "code",
      "metadata": {
        "colab_type": "code",
        "id": "85VuJT6VdK9B",
        "colab": {}
      },
      "source": [
        "from sklearn.datasets import load_breast_cancer\n",
        "cancer = load_breast_cancer()"
      ],
      "execution_count": 0,
      "outputs": []
    },
    {
      "cell_type": "markdown",
      "metadata": {
        "colab_type": "text",
        "id": "Fk22fNOQdRb-"
      },
      "source": [
        "Le probléme avec cette dataset est qu'elle est représenté sous forme d'un dictionnaire donc on va la reformuler sous forme de dataframe "
      ]
    },
    {
      "cell_type": "code",
      "metadata": {
        "colab_type": "code",
        "id": "33aEXETsdmP3",
        "outputId": "22aa3e59-6cd1-4f6a-9c83-45e25b18da19",
        "colab": {
          "base_uri": "https://localhost:8080/",
          "height": 258
        }
      },
      "source": [
        "df = pd.DataFrame(cancer['data'],columns=cancer['feature_names'])\n",
        "df.head()"
      ],
      "execution_count": 0,
      "outputs": [
        {
          "output_type": "execute_result",
          "data": {
            "text/html": [
              "<div>\n",
              "<style scoped>\n",
              "    .dataframe tbody tr th:only-of-type {\n",
              "        vertical-align: middle;\n",
              "    }\n",
              "\n",
              "    .dataframe tbody tr th {\n",
              "        vertical-align: top;\n",
              "    }\n",
              "\n",
              "    .dataframe thead th {\n",
              "        text-align: right;\n",
              "    }\n",
              "</style>\n",
              "<table border=\"1\" class=\"dataframe\">\n",
              "  <thead>\n",
              "    <tr style=\"text-align: right;\">\n",
              "      <th></th>\n",
              "      <th>mean radius</th>\n",
              "      <th>mean texture</th>\n",
              "      <th>mean perimeter</th>\n",
              "      <th>mean area</th>\n",
              "      <th>mean smoothness</th>\n",
              "      <th>mean compactness</th>\n",
              "      <th>mean concavity</th>\n",
              "      <th>mean concave points</th>\n",
              "      <th>mean symmetry</th>\n",
              "      <th>mean fractal dimension</th>\n",
              "      <th>...</th>\n",
              "      <th>worst radius</th>\n",
              "      <th>worst texture</th>\n",
              "      <th>worst perimeter</th>\n",
              "      <th>worst area</th>\n",
              "      <th>worst smoothness</th>\n",
              "      <th>worst compactness</th>\n",
              "      <th>worst concavity</th>\n",
              "      <th>worst concave points</th>\n",
              "      <th>worst symmetry</th>\n",
              "      <th>worst fractal dimension</th>\n",
              "    </tr>\n",
              "  </thead>\n",
              "  <tbody>\n",
              "    <tr>\n",
              "      <th>0</th>\n",
              "      <td>17.99</td>\n",
              "      <td>10.38</td>\n",
              "      <td>122.80</td>\n",
              "      <td>1001.0</td>\n",
              "      <td>0.11840</td>\n",
              "      <td>0.27760</td>\n",
              "      <td>0.3001</td>\n",
              "      <td>0.14710</td>\n",
              "      <td>0.2419</td>\n",
              "      <td>0.07871</td>\n",
              "      <td>...</td>\n",
              "      <td>25.38</td>\n",
              "      <td>17.33</td>\n",
              "      <td>184.60</td>\n",
              "      <td>2019.0</td>\n",
              "      <td>0.1622</td>\n",
              "      <td>0.6656</td>\n",
              "      <td>0.7119</td>\n",
              "      <td>0.2654</td>\n",
              "      <td>0.4601</td>\n",
              "      <td>0.11890</td>\n",
              "    </tr>\n",
              "    <tr>\n",
              "      <th>1</th>\n",
              "      <td>20.57</td>\n",
              "      <td>17.77</td>\n",
              "      <td>132.90</td>\n",
              "      <td>1326.0</td>\n",
              "      <td>0.08474</td>\n",
              "      <td>0.07864</td>\n",
              "      <td>0.0869</td>\n",
              "      <td>0.07017</td>\n",
              "      <td>0.1812</td>\n",
              "      <td>0.05667</td>\n",
              "      <td>...</td>\n",
              "      <td>24.99</td>\n",
              "      <td>23.41</td>\n",
              "      <td>158.80</td>\n",
              "      <td>1956.0</td>\n",
              "      <td>0.1238</td>\n",
              "      <td>0.1866</td>\n",
              "      <td>0.2416</td>\n",
              "      <td>0.1860</td>\n",
              "      <td>0.2750</td>\n",
              "      <td>0.08902</td>\n",
              "    </tr>\n",
              "    <tr>\n",
              "      <th>2</th>\n",
              "      <td>19.69</td>\n",
              "      <td>21.25</td>\n",
              "      <td>130.00</td>\n",
              "      <td>1203.0</td>\n",
              "      <td>0.10960</td>\n",
              "      <td>0.15990</td>\n",
              "      <td>0.1974</td>\n",
              "      <td>0.12790</td>\n",
              "      <td>0.2069</td>\n",
              "      <td>0.05999</td>\n",
              "      <td>...</td>\n",
              "      <td>23.57</td>\n",
              "      <td>25.53</td>\n",
              "      <td>152.50</td>\n",
              "      <td>1709.0</td>\n",
              "      <td>0.1444</td>\n",
              "      <td>0.4245</td>\n",
              "      <td>0.4504</td>\n",
              "      <td>0.2430</td>\n",
              "      <td>0.3613</td>\n",
              "      <td>0.08758</td>\n",
              "    </tr>\n",
              "    <tr>\n",
              "      <th>3</th>\n",
              "      <td>11.42</td>\n",
              "      <td>20.38</td>\n",
              "      <td>77.58</td>\n",
              "      <td>386.1</td>\n",
              "      <td>0.14250</td>\n",
              "      <td>0.28390</td>\n",
              "      <td>0.2414</td>\n",
              "      <td>0.10520</td>\n",
              "      <td>0.2597</td>\n",
              "      <td>0.09744</td>\n",
              "      <td>...</td>\n",
              "      <td>14.91</td>\n",
              "      <td>26.50</td>\n",
              "      <td>98.87</td>\n",
              "      <td>567.7</td>\n",
              "      <td>0.2098</td>\n",
              "      <td>0.8663</td>\n",
              "      <td>0.6869</td>\n",
              "      <td>0.2575</td>\n",
              "      <td>0.6638</td>\n",
              "      <td>0.17300</td>\n",
              "    </tr>\n",
              "    <tr>\n",
              "      <th>4</th>\n",
              "      <td>20.29</td>\n",
              "      <td>14.34</td>\n",
              "      <td>135.10</td>\n",
              "      <td>1297.0</td>\n",
              "      <td>0.10030</td>\n",
              "      <td>0.13280</td>\n",
              "      <td>0.1980</td>\n",
              "      <td>0.10430</td>\n",
              "      <td>0.1809</td>\n",
              "      <td>0.05883</td>\n",
              "      <td>...</td>\n",
              "      <td>22.54</td>\n",
              "      <td>16.67</td>\n",
              "      <td>152.20</td>\n",
              "      <td>1575.0</td>\n",
              "      <td>0.1374</td>\n",
              "      <td>0.2050</td>\n",
              "      <td>0.4000</td>\n",
              "      <td>0.1625</td>\n",
              "      <td>0.2364</td>\n",
              "      <td>0.07678</td>\n",
              "    </tr>\n",
              "  </tbody>\n",
              "</table>\n",
              "<p>5 rows × 30 columns</p>\n",
              "</div>"
            ],
            "text/plain": [
              "   mean radius  mean texture  mean perimeter  mean area  mean smoothness  \\\n",
              "0        17.99         10.38          122.80     1001.0          0.11840   \n",
              "1        20.57         17.77          132.90     1326.0          0.08474   \n",
              "2        19.69         21.25          130.00     1203.0          0.10960   \n",
              "3        11.42         20.38           77.58      386.1          0.14250   \n",
              "4        20.29         14.34          135.10     1297.0          0.10030   \n",
              "\n",
              "   mean compactness  mean concavity  mean concave points  mean symmetry  \\\n",
              "0           0.27760          0.3001              0.14710         0.2419   \n",
              "1           0.07864          0.0869              0.07017         0.1812   \n",
              "2           0.15990          0.1974              0.12790         0.2069   \n",
              "3           0.28390          0.2414              0.10520         0.2597   \n",
              "4           0.13280          0.1980              0.10430         0.1809   \n",
              "\n",
              "   mean fractal dimension  ...  worst radius  worst texture  worst perimeter  \\\n",
              "0                 0.07871  ...         25.38          17.33           184.60   \n",
              "1                 0.05667  ...         24.99          23.41           158.80   \n",
              "2                 0.05999  ...         23.57          25.53           152.50   \n",
              "3                 0.09744  ...         14.91          26.50            98.87   \n",
              "4                 0.05883  ...         22.54          16.67           152.20   \n",
              "\n",
              "   worst area  worst smoothness  worst compactness  worst concavity  \\\n",
              "0      2019.0            0.1622             0.6656           0.7119   \n",
              "1      1956.0            0.1238             0.1866           0.2416   \n",
              "2      1709.0            0.1444             0.4245           0.4504   \n",
              "3       567.7            0.2098             0.8663           0.6869   \n",
              "4      1575.0            0.1374             0.2050           0.4000   \n",
              "\n",
              "   worst concave points  worst symmetry  worst fractal dimension  \n",
              "0                0.2654          0.4601                  0.11890  \n",
              "1                0.1860          0.2750                  0.08902  \n",
              "2                0.2430          0.3613                  0.08758  \n",
              "3                0.2575          0.6638                  0.17300  \n",
              "4                0.1625          0.2364                  0.07678  \n",
              "\n",
              "[5 rows x 30 columns]"
            ]
          },
          "metadata": {
            "tags": []
          },
          "execution_count": 7
        }
      ]
    },
    {
      "cell_type": "markdown",
      "metadata": {
        "colab_type": "text",
        "id": "38F9buYeefIe"
      },
      "source": [
        "il est difficile de représenté ces données avec ce grand nombre d'attribut donc on va utilisé l'analyse en composantes principales ACP pour déterminer les composants principales ainsi réduire le nombre d'attributs . Mais avant tous ca on doit faire le \"Features scaling\" pour mettre tous les attributs sur la meme échelle "
      ]
    },
    {
      "cell_type": "code",
      "metadata": {
        "colab_type": "code",
        "id": "TbwhWFJkfkHN",
        "outputId": "315c9a1b-accd-46a2-c95b-9c6a8a38dd63",
        "colab": {
          "base_uri": "https://localhost:8080/",
          "height": 34
        }
      },
      "source": [
        "from sklearn.preprocessing import StandardScaler\n",
        "scal = StandardScaler()\n",
        "scal.fit(df)"
      ],
      "execution_count": 0,
      "outputs": [
        {
          "output_type": "execute_result",
          "data": {
            "text/plain": [
              "StandardScaler(copy=True, with_mean=True, with_std=True)"
            ]
          },
          "metadata": {
            "tags": []
          },
          "execution_count": 8
        }
      ]
    },
    {
      "cell_type": "code",
      "metadata": {
        "colab_type": "code",
        "id": "y89c_LUzf9ai",
        "colab": {}
      },
      "source": [
        "scaled_data = scal.transform(df)\n"
      ],
      "execution_count": 0,
      "outputs": []
    },
    {
      "cell_type": "markdown",
      "metadata": {
        "colab_type": "text",
        "id": "HxA7qDrHg82H"
      },
      "source": [
        "Implementation de l'ACP "
      ]
    },
    {
      "cell_type": "code",
      "metadata": {
        "colab_type": "code",
        "id": "faATz_RRhAYJ",
        "colab": {}
      },
      "source": [
        "from sklearn.decomposition import PCA \n",
        "fit = PCA()\n",
        "pca = fit.fit_transform(scaled_data)"
      ],
      "execution_count": 0,
      "outputs": []
    },
    {
      "cell_type": "markdown",
      "metadata": {
        "colab_type": "text",
        "id": "o0Eis_Liivn8"
      },
      "source": [
        "Maintenant à travers la visualization du graph suivant on va déterminer les attributs principaux "
      ]
    },
    {
      "cell_type": "code",
      "metadata": {
        "colab_type": "code",
        "id": "I0cO8nO-jA_T",
        "outputId": "2ea8de5d-998e-4aa7-d725-ef8b7b349e7f",
        "colab": {
          "base_uri": "https://localhost:8080/",
          "height": 282
        }
      },
      "source": [
        "plt.plot(fit.explained_variance_ratio_)"
      ],
      "execution_count": 0,
      "outputs": [
        {
          "output_type": "execute_result",
          "data": {
            "text/plain": [
              "[<matplotlib.lines.Line2D at 0x7faa62ae57b8>]"
            ]
          },
          "metadata": {
            "tags": []
          },
          "execution_count": 8
        },
        {
          "output_type": "display_data",
          "data": {
            "image/png": "[encoded data removed]",
            "text/plain": [
              "<Figure size 432x288 with 1 Axes>"
            ]
          },
          "metadata": {
            "tags": [],
            "needs_background": "light"
          }
        }
      ]
    },
    {
      "cell_type": "markdown",
      "metadata": {
        "colab_type": "text",
        "id": "bVxqtMG-jb9q"
      },
      "source": [
        "Ce graph donne une idée génèrale sur les attributs principaux qu'on va utilisé ultérieurement : en effet ces attributs principaux sont les 2 premiers . on va continuer à vérifier"
      ]
    },
    {
      "cell_type": "code",
      "metadata": {
        "colab_type": "code",
        "id": "7ArwhbEqkIBB",
        "outputId": "8a8f3093-852b-4dff-946e-1d9fca060ab7",
        "colab": {
          "base_uri": "https://localhost:8080/",
          "height": 170
        }
      },
      "source": [
        "print (fit.explained_variance_ratio_)\n",
        "print (fit.explained_variance_ratio_[:2].sum())"
      ],
      "execution_count": 0,
      "outputs": [
        {
          "output_type": "stream",
          "text": [
            "[4.42720256e-01 1.89711820e-01 9.39316326e-02 6.60213492e-02\n",
            " 5.49576849e-02 4.02452204e-02 2.25073371e-02 1.58872380e-02\n",
            " 1.38964937e-02 1.16897819e-02 9.79718988e-03 8.70537901e-03\n",
            " 8.04524987e-03 5.23365745e-03 3.13783217e-03 2.66209337e-03\n",
            " 1.97996793e-03 1.75395945e-03 1.64925306e-03 1.03864675e-03\n",
            " 9.99096464e-04 9.14646751e-04 8.11361259e-04 6.01833567e-04\n",
            " 5.16042379e-04 2.72587995e-04 2.30015463e-04 5.29779290e-05\n",
            " 2.49601032e-05 4.43482743e-06]\n",
            "0.6324320765155942\n"
          ],
          "name": "stdout"
        }
      ]
    },
    {
      "cell_type": "markdown",
      "metadata": {
        "colab_type": "text",
        "id": "4IjxpaQnkrqc"
      },
      "source": [
        "On remarque que les 2 premiers attributs représente 63 % de la totalité de la variance et on va les garder "
      ]
    },
    {
      "cell_type": "code",
      "metadata": {
        "colab_type": "code",
        "id": "SNijrb6RvOt3",
        "outputId": "a1b427ce-61b4-49bf-ee6d-60a00a3f5687",
        "colab": {
          "base_uri": "https://localhost:8080/",
          "height": 51
        }
      },
      "source": [
        "pca = PCA(n_components=2)\n",
        "pca.fit(scaled_data)"
      ],
      "execution_count": 0,
      "outputs": [
        {
          "output_type": "execute_result",
          "data": {
            "text/plain": [
              "PCA(copy=True, iterated_power='auto', n_components=2, random_state=None,\n",
              "    svd_solver='auto', tol=0.0, whiten=False)"
            ]
          },
          "metadata": {
            "tags": []
          },
          "execution_count": 12
        }
      ]
    },
    {
      "cell_type": "code",
      "metadata": {
        "colab_type": "code",
        "id": "l3XDT5O3vSr_",
        "colab": {}
      },
      "source": [
        "x_pca = pca.transform(scaled_data)"
      ],
      "execution_count": 0,
      "outputs": []
    },
    {
      "cell_type": "code",
      "metadata": {
        "colab_type": "code",
        "id": "si4KJ9tdvYkV",
        "outputId": "2f61c5a7-64da-4465-b354-8255c8bd18ad",
        "colab": {
          "base_uri": "https://localhost:8080/",
          "height": 34
        }
      },
      "source": [
        "scaled_data.shape"
      ],
      "execution_count": 0,
      "outputs": [
        {
          "output_type": "execute_result",
          "data": {
            "text/plain": [
              "(569, 30)"
            ]
          },
          "metadata": {
            "tags": []
          },
          "execution_count": 14
        }
      ]
    },
    {
      "cell_type": "markdown",
      "metadata": {
        "colab_type": "text",
        "id": "Wa8nE-Civf3y"
      },
      "source": [
        "Le format de notre Dataset est devenu \n"
      ]
    },
    {
      "cell_type": "code",
      "metadata": {
        "colab_type": "code",
        "id": "YL3UANbBvgox",
        "outputId": "1adf6ab6-db4d-4699-dff6-e6280d816b79",
        "colab": {
          "base_uri": "https://localhost:8080/",
          "height": 34
        }
      },
      "source": [
        "x_pca.shape"
      ],
      "execution_count": 0,
      "outputs": [
        {
          "output_type": "execute_result",
          "data": {
            "text/plain": [
              "(569, 2)"
            ]
          },
          "metadata": {
            "tags": []
          },
          "execution_count": 15
        }
      ]
    },
    {
      "cell_type": "markdown",
      "metadata": {
        "colab_type": "text",
        "id": "120R_SRovoNa"
      },
      "source": [
        "On a réduit le nombre des attributs de 30 à 2 . donc on peut visualizer les données facilement "
      ]
    },
    {
      "cell_type": "code",
      "metadata": {
        "colab_type": "code",
        "id": "JZnTyCb3vqG-",
        "outputId": "1ea0d100-5c4c-4978-c506-6c815c6f994d",
        "colab": {
          "base_uri": "https://localhost:8080/",
          "height": 405
        }
      },
      "source": [
        "plt.figure(figsize=(8,6))\n",
        "plt.scatter(x_pca[:,0],x_pca[:,1],c=cancer['target'],cmap='rainbow')\n",
        "plt.xlabel('1er composant principal')\n",
        "plt.ylabel('2eme composant principal')\n",
        "plt.show()"
      ],
      "execution_count": 0,
      "outputs": [
        {
          "output_type": "display_data",
          "data": {
            "image/png": "[encoded data removed]",
            "text/plain": [
              "<Figure size 576x432 with 1 Axes>"
            ]
          },
          "metadata": {
            "tags": [],
            "needs_background": "light"
          }
        }
      ]
    },
    {
      "cell_type": "markdown",
      "metadata": {
        "colab_type": "text",
        "id": "DZkTHgiIvt75"
      },
      "source": [
        "Il est claire qu'avec des 2 composants on peut séparer les données en 2 entités entiérement distinctes  "
      ]
    },
    {
      "cell_type": "markdown",
      "metadata": {
        "colab_type": "text",
        "id": "3GRbBSrnySE1"
      },
      "source": [
        "on vizualise la matrice de corrélation entre les divers attributs "
      ]
    },
    {
      "cell_type": "code",
      "metadata": {
        "colab_type": "code",
        "id": "YbzKN9UL7-4L",
        "colab": {},
        "outputId": "31a6ea13-80a6-4ce4-fe3f-5283ce991efc"
      },
      "source": [
        "#matrice de corrélations \n",
        "corr = df.corr()\n",
        "print(corr)"
      ],
      "execution_count": 0,
      "outputs": [
        {
          "output_type": "stream",
          "text": [
            "                         mean radius  mean texture  mean perimeter  mean area  \\\n",
            "mean radius                 1.000000      0.323782        0.997855   0.987357   \n",
            "mean texture                0.323782      1.000000        0.329533   0.321086   \n",
            "mean perimeter              0.997855      0.329533        1.000000   0.986507   \n",
            "mean area                   0.987357      0.321086        0.986507   1.000000   \n",
            "mean smoothness             0.170581     -0.023389        0.207278   0.177028   \n",
            "mean compactness            0.506124      0.236702        0.556936   0.498502   \n",
            "mean concavity              0.676764      0.302418        0.716136   0.685983   \n",
            "mean concave points         0.822529      0.293464        0.850977   0.823269   \n",
            "mean symmetry               0.147741      0.071401        0.183027   0.151293   \n",
            "mean fractal dimension     -0.311631     -0.076437       -0.261477  -0.283110   \n",
            "radius error                0.679090      0.275869        0.691765   0.732562   \n",
            "texture error              -0.097317      0.386358       -0.086761  -0.066280   \n",
            "perimeter error             0.674172      0.281673        0.693135   0.726628   \n",
            "area error                  0.735864      0.259845        0.744983   0.800086   \n",
            "smoothness error           -0.222600      0.006614       -0.202694  -0.166777   \n",
            "compactness error           0.206000      0.191975        0.250744   0.212583   \n",
            "concavity error             0.194204      0.143293        0.228082   0.207660   \n",
            "concave points error        0.376169      0.163851        0.407217   0.372320   \n",
            "symmetry error             -0.104321      0.009127       -0.081629  -0.072497   \n",
            "fractal dimension error    -0.042641      0.054458       -0.005523  -0.019887   \n",
            "worst radius                0.969539      0.352573        0.969476   0.962746   \n",
            "worst texture               0.297008      0.912045        0.303038   0.287489   \n",
            "worst perimeter             0.965137      0.358040        0.970387   0.959120   \n",
            "worst area                  0.941082      0.343546        0.941550   0.959213   \n",
            "worst smoothness            0.119616      0.077503        0.150549   0.123523   \n",
            "worst compactness           0.413463      0.277830        0.455774   0.390410   \n",
            "worst concavity             0.526911      0.301025        0.563879   0.512606   \n",
            "worst concave points        0.744214      0.295316        0.771241   0.722017   \n",
            "worst symmetry              0.163953      0.105008        0.189115   0.143570   \n",
            "worst fractal dimension     0.007066      0.119205        0.051019   0.003738   \n",
            "\n",
            "                         mean smoothness  mean compactness  mean concavity  \\\n",
            "mean radius                     0.170581          0.506124        0.676764   \n",
            "mean texture                   -0.023389          0.236702        0.302418   \n",
            "mean perimeter                  0.207278          0.556936        0.716136   \n",
            "mean area                       0.177028          0.498502        0.685983   \n",
            "mean smoothness                 1.000000          0.659123        0.521984   \n",
            "mean compactness                0.659123          1.000000        0.883121   \n",
            "mean concavity                  0.521984          0.883121        1.000000   \n",
            "mean concave points             0.553695          0.831135        0.921391   \n",
            "mean symmetry                   0.557775          0.602641        0.500667   \n",
            "mean fractal dimension          0.584792          0.565369        0.336783   \n",
            "radius error                    0.301467          0.497473        0.631925   \n",
            "texture error                   0.068406          0.046205        0.076218   \n",
            "perimeter error                 0.296092          0.548905        0.660391   \n",
            "area error                      0.246552          0.455653        0.617427   \n",
            "smoothness error                0.332375          0.135299        0.098564   \n",
            "compactness error               0.318943          0.738722        0.670279   \n",
            "concavity error                 0.248396          0.570517        0.691270   \n",
            "concave points error            0.380676          0.642262        0.683260   \n",
            "symmetry error                  0.200774          0.229977        0.178009   \n",
            "fractal dimension error         0.283607          0.507318        0.449301   \n",
            "worst radius                    0.213120          0.535315        0.688236   \n",
            "worst texture                   0.036072          0.248133        0.299879   \n",
            "worst perimeter                 0.238853          0.590210        0.729565   \n",
            "worst area                      0.206718          0.509604        0.675987   \n",
            "worst smoothness                0.805324          0.565541        0.448822   \n",
            "worst compactness               0.472468          0.865809        0.754968   \n",
            "worst concavity                 0.434926          0.816275        0.884103   \n",
            "worst concave points            0.503053          0.815573        0.861323   \n",
            "worst symmetry                  0.394309          0.510223        0.409464   \n",
            "worst fractal dimension         0.499316          0.687382        0.514930   \n",
            "\n",
            "                         mean concave points  mean symmetry  \\\n",
            "mean radius                         0.822529       0.147741   \n",
            "mean texture                        0.293464       0.071401   \n",
            "mean perimeter                      0.850977       0.183027   \n",
            "mean area                           0.823269       0.151293   \n",
            "mean smoothness                     0.553695       0.557775   \n",
            "mean compactness                    0.831135       0.602641   \n",
            "mean concavity                      0.921391       0.500667   \n",
            "mean concave points                 1.000000       0.462497   \n",
            "mean symmetry                       0.462497       1.000000   \n",
            "mean fractal dimension              0.166917       0.479921   \n",
            "radius error                        0.698050       0.303379   \n",
            "texture error                       0.021480       0.128053   \n",
            "perimeter error                     0.710650       0.313893   \n",
            "area error                          0.690299       0.223970   \n",
            "smoothness error                    0.027653       0.187321   \n",
            "compactness error                   0.490424       0.421659   \n",
            "concavity error                     0.439167       0.342627   \n",
            "concave points error                0.615634       0.393298   \n",
            "symmetry error                      0.095351       0.449137   \n",
            "fractal dimension error             0.257584       0.331786   \n",
            "worst radius                        0.830318       0.185728   \n",
            "worst texture                       0.292752       0.090651   \n",
            "worst perimeter                     0.855923       0.219169   \n",
            "worst area                          0.809630       0.177193   \n",
            "worst smoothness                    0.452753       0.426675   \n",
            "worst compactness                   0.667454       0.473200   \n",
            "worst concavity                     0.752399       0.433721   \n",
            "worst concave points                0.910155       0.430297   \n",
            "worst symmetry                      0.375744       0.699826   \n",
            "worst fractal dimension             0.368661       0.438413   \n",
            "\n",
            "                         mean fractal dimension  ...  worst radius  \\\n",
            "mean radius                           -0.311631  ...      0.969539   \n",
            "mean texture                          -0.076437  ...      0.352573   \n",
            "mean perimeter                        -0.261477  ...      0.969476   \n",
            "mean area                             -0.283110  ...      0.962746   \n",
            "mean smoothness                        0.584792  ...      0.213120   \n",
            "mean compactness                       0.565369  ...      0.535315   \n",
            "mean concavity                         0.336783  ...      0.688236   \n",
            "mean concave points                    0.166917  ...      0.830318   \n",
            "mean symmetry                          0.479921  ...      0.185728   \n",
            "mean fractal dimension                 1.000000  ...     -0.253691   \n",
            "radius error                           0.000111  ...      0.715065   \n",
            "texture error                          0.164174  ...     -0.111690   \n",
            "perimeter error                        0.039830  ...      0.697201   \n",
            "area error                            -0.090170  ...      0.757373   \n",
            "smoothness error                       0.401964  ...     -0.230691   \n",
            "compactness error                      0.559837  ...      0.204607   \n",
            "concavity error                        0.446630  ...      0.186904   \n",
            "concave points error                   0.341198  ...      0.358127   \n",
            "symmetry error                         0.345007  ...     -0.128121   \n",
            "fractal dimension error                0.688132  ...     -0.037488   \n",
            "worst radius                          -0.253691  ...      1.000000   \n",
            "worst texture                         -0.051269  ...      0.359921   \n",
            "worst perimeter                       -0.205151  ...      0.993708   \n",
            "worst area                            -0.231854  ...      0.984015   \n",
            "worst smoothness                       0.504942  ...      0.216574   \n",
            "worst compactness                      0.458798  ...      0.475820   \n",
            "worst concavity                        0.346234  ...      0.573975   \n",
            "worst concave points                   0.175325  ...      0.787424   \n",
            "worst symmetry                         0.334019  ...      0.243529   \n",
            "worst fractal dimension                0.767297  ...      0.093492   \n",
            "\n",
            "                         worst texture  worst perimeter  worst area  \\\n",
            "mean radius                   0.297008         0.965137    0.941082   \n",
            "mean texture                  0.912045         0.358040    0.343546   \n",
            "mean perimeter                0.303038         0.970387    0.941550   \n",
            "mean area                     0.287489         0.959120    0.959213   \n",
            "mean smoothness               0.036072         0.238853    0.206718   \n",
            "mean compactness              0.248133         0.590210    0.509604   \n",
            "mean concavity                0.299879         0.729565    0.675987   \n",
            "mean concave points           0.292752         0.855923    0.809630   \n",
            "mean symmetry                 0.090651         0.219169    0.177193   \n",
            "mean fractal dimension       -0.051269        -0.205151   -0.231854   \n",
            "radius error                  0.194799         0.719684    0.751548   \n",
            "texture error                 0.409003        -0.102242   -0.083195   \n",
            "perimeter error               0.200371         0.721031    0.730713   \n",
            "area error                    0.196497         0.761213    0.811408   \n",
            "smoothness error             -0.074743        -0.217304   -0.182195   \n",
            "compactness error             0.143003         0.260516    0.199371   \n",
            "concavity error               0.100241         0.226680    0.188353   \n",
            "concave points error          0.086741         0.394999    0.342271   \n",
            "symmetry error               -0.077473        -0.103753   -0.110343   \n",
            "fractal dimension error      -0.003195        -0.001000   -0.022736   \n",
            "worst radius                  0.359921         0.993708    0.984015   \n",
            "worst texture                 1.000000         0.365098    0.345842   \n",
            "worst perimeter               0.365098         1.000000    0.977578   \n",
            "worst area                    0.345842         0.977578    1.000000   \n",
            "worst smoothness              0.225429         0.236775    0.209145   \n",
            "worst compactness             0.360832         0.529408    0.438296   \n",
            "worst concavity               0.368366         0.618344    0.543331   \n",
            "worst concave points          0.359755         0.816322    0.747419   \n",
            "worst symmetry                0.233027         0.269493    0.209146   \n",
            "worst fractal dimension       0.219122         0.138957    0.079647   \n",
            "\n",
            "                         worst smoothness  worst compactness  worst concavity  \\\n",
            "mean radius                      0.119616           0.413463         0.526911   \n",
            "mean texture                     0.077503           0.277830         0.301025   \n",
            "mean perimeter                   0.150549           0.455774         0.563879   \n",
            "mean area                        0.123523           0.390410         0.512606   \n",
            "mean smoothness                  0.805324           0.472468         0.434926   \n",
            "mean compactness                 0.565541           0.865809         0.816275   \n",
            "mean concavity                   0.448822           0.754968         0.884103   \n",
            "mean concave points              0.452753           0.667454         0.752399   \n",
            "mean symmetry                    0.426675           0.473200         0.433721   \n",
            "mean fractal dimension           0.504942           0.458798         0.346234   \n",
            "radius error                     0.141919           0.287103         0.380585   \n",
            "texture error                   -0.073658          -0.092439        -0.068956   \n",
            "perimeter error                  0.130054           0.341919         0.418899   \n",
            "area error                       0.125389           0.283257         0.385100   \n",
            "smoothness error                 0.314457          -0.055558        -0.058298   \n",
            "compactness error                0.227394           0.678780         0.639147   \n",
            "concavity error                  0.168481           0.484858         0.662564   \n",
            "concave points error             0.215351           0.452888         0.549592   \n",
            "symmetry error                  -0.012662           0.060255         0.037119   \n",
            "fractal dimension error          0.170568           0.390159         0.379975   \n",
            "worst radius                     0.216574           0.475820         0.573975   \n",
            "worst texture                    0.225429           0.360832         0.368366   \n",
            "worst perimeter                  0.236775           0.529408         0.618344   \n",
            "worst area                       0.209145           0.438296         0.543331   \n",
            "worst smoothness                 1.000000           0.568187         0.518523   \n",
            "worst compactness                0.568187           1.000000         0.892261   \n",
            "worst concavity                  0.518523           0.892261         1.000000   \n",
            "worst concave points             0.547691           0.801080         0.855434   \n",
            "worst symmetry                   0.493838           0.614441         0.532520   \n",
            "worst fractal dimension          0.617624           0.810455         0.686511   \n",
            "\n",
            "                         worst concave points  worst symmetry  \\\n",
            "mean radius                          0.744214        0.163953   \n",
            "mean texture                         0.295316        0.105008   \n",
            "mean perimeter                       0.771241        0.189115   \n",
            "mean area                            0.722017        0.143570   \n",
            "mean smoothness                      0.503053        0.394309   \n",
            "mean compactness                     0.815573        0.510223   \n",
            "mean concavity                       0.861323        0.409464   \n",
            "mean concave points                  0.910155        0.375744   \n",
            "mean symmetry                        0.430297        0.699826   \n",
            "mean fractal dimension               0.175325        0.334019   \n",
            "radius error                         0.531062        0.094543   \n",
            "texture error                       -0.119638       -0.128215   \n",
            "perimeter error                      0.554897        0.109930   \n",
            "area error                           0.538166        0.074126   \n",
            "smoothness error                    -0.102007       -0.107342   \n",
            "compactness error                    0.483208        0.277878   \n",
            "concavity error                      0.440472        0.197788   \n",
            "concave points error                 0.602450        0.143116   \n",
            "symmetry error                      -0.030413        0.389402   \n",
            "fractal dimension error              0.215204        0.111094   \n",
            "worst radius                         0.787424        0.243529   \n",
            "worst texture                        0.359755        0.233027   \n",
            "worst perimeter                      0.816322        0.269493   \n",
            "worst area                           0.747419        0.209146   \n",
            "worst smoothness                     0.547691        0.493838   \n",
            "worst compactness                    0.801080        0.614441   \n",
            "worst concavity                      0.855434        0.532520   \n",
            "worst concave points                 1.000000        0.502528   \n",
            "worst symmetry                       0.502528        1.000000   \n",
            "worst fractal dimension              0.511114        0.537848   \n",
            "\n",
            "                         worst fractal dimension  \n",
            "mean radius                             0.007066  \n",
            "mean texture                            0.119205  \n",
            "mean perimeter                          0.051019  \n",
            "mean area                               0.003738  \n",
            "mean smoothness                         0.499316  \n",
            "mean compactness                        0.687382  \n",
            "mean concavity                          0.514930  \n",
            "mean concave points                     0.368661  \n",
            "mean symmetry                           0.438413  \n",
            "mean fractal dimension                  0.767297  \n",
            "radius error                            0.049559  \n",
            "texture error                          -0.045655  \n",
            "perimeter error                         0.085433  \n",
            "area error                              0.017539  \n",
            "smoothness error                        0.101480  \n",
            "compactness error                       0.590973  \n",
            "concavity error                         0.439329  \n",
            "concave points error                    0.310655  \n",
            "symmetry error                          0.078079  \n",
            "fractal dimension error                 0.591328  \n",
            "worst radius                            0.093492  \n",
            "worst texture                           0.219122  \n",
            "worst perimeter                         0.138957  \n",
            "worst area                              0.079647  \n",
            "worst smoothness                        0.617624  \n",
            "worst compactness                       0.810455  \n",
            "worst concavity                         0.686511  \n",
            "worst concave points                    0.511114  \n",
            "worst symmetry                          0.537848  \n",
            "worst fractal dimension                 1.000000  \n",
            "\n",
            "[30 rows x 30 columns]\n"
          ],
          "name": "stdout"
        }
      ]
    },
    {
      "cell_type": "markdown",
      "metadata": {
        "id": "X8Up2RNhjvNu",
        "colab_type": "text"
      },
      "source": [
        "le Hitmap suivant en mieux compréhensible et lisable que la matrice de corrélation en peut déterminer la corrélation entre les 2 attributs détecté avec le ACP les divers attributs comme le montre le hitmap suivant "
      ]
    },
    {
      "cell_type": "code",
      "metadata": {
        "colab_type": "code",
        "id": "8k3fXS0cygy0",
        "outputId": "97d0bf72-7370-4f05-d851-4111d9892719",
        "colab": {
          "base_uri": "https://localhost:8080/",
          "height": 500
        }
      },
      "source": [
        "map= pd.DataFrame(pca.components_,columns=cancer['feature_names'])\n",
        "plt.figure(figsize=(12,6))\n",
        "sns.heatmap(map,cmap='twilight')"
      ],
      "execution_count": 0,
      "outputs": [
        {
          "output_type": "execute_result",
          "data": {
            "text/plain": [
              "<matplotlib.axes._subplots.AxesSubplot at 0x7faa610af710>"
            ]
          },
          "metadata": {
            "tags": []
          },
          "execution_count": 31
        },
        {
          "output_type": "display_data",
          "data": {
            "image/png": "[encoded data removed]",
            "text/plain": [
              "<Figure size 864x432 with 2 Axes>"
            ]
          },
          "metadata": {
            "tags": [],
            "needs_background": "light"
          }
        }
      ]
    },
    {
      "cell_type": "markdown",
      "metadata": {
        "id": "HbpXE3T6jjct",
        "colab_type": "text"
      },
      "source": [
        "a travers ce hitmap on peut tirer plusieurs conclusions qui nous renseigne sur la nature de correlations entre les attributs qui décrivent les tumeurs cancéreuses par exemple : \n",
        "le 1er attribut \"mean radius\" est fortement corrolé positivement avec les attributs \"mean symmetry\" ,  \"mean smoothness\" d'ou on peut conclure que le rayon de la tumeure est proportionnelle avec la symetrie et l'autre attribut d'ou l'agumentation de l'un de ces attributs engendre l'augmentation des autres automatiquement d'ou l'augmentation de la chance que cet individu a le cancer  \n"
      ]
    }
  ]
}